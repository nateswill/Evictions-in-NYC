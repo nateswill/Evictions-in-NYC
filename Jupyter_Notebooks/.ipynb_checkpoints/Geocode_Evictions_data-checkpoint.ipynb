{
 "cells": [
  {
   "cell_type": "markdown",
   "metadata": {},
   "source": [
    "# Geocoding the evictions data"
   ]
  },
  {
   "cell_type": "code",
   "execution_count": null,
   "metadata": {},
   "outputs": [],
   "source": [
    "#import libraries\n",
    "import pandas as pd\n",
    "import geopandas as gpd\n",
    "import numpy as np\n",
    "import geopy\n",
    "from geopy.geocoders import Nominatim\n",
    "import time as time"
   ]
  },
  {
   "cell_type": "markdown",
   "metadata": {},
   "source": [
    "## Instructions for Conda users: installing geopy and geopandas"
   ]
  },
  {
   "cell_type": "markdown",
   "metadata": {},
   "source": [
    "Conda does not come with geopandas and geopy libraries installed.  Additionally, there are dependency conflicts when \n",
    "using 'conda install' to install these libraries and use them with Jupyter Notebook.  Please see this article for instructions on how to install geopandas with a virtual environment: https://medium.com/@sourav_raj/ultimate-easiest-way-to-install-geopandas-on-windows-add-to-jupyter-notebook-which-will-a4b11223f4f2. You can use the same instructions for installing geopy in the same virtual environment. Using a virtual environment corrects the dependency issues.\n",
    "\n",
    "This is the article I used to do the geocoding: https://towardsdatascience.com/geocode-with-python-161ec1e62b89\n",
    "\n",
    "Enjoy! Happy to help if anyone has any questions about installation of these libraries with a virtual environment."
   ]
  },
  {
   "cell_type": "markdown",
   "metadata": {},
   "source": [
    "## Geocode a single address"
   ]
  },
  {
   "cell_type": "code",
   "execution_count": null,
   "metadata": {},
   "outputs": [],
   "source": [
    "locator = Nominatim(user_agent='myGeocoder')\n",
    "location = locator.geocode('Champ de Mars, Paris, France')"
   ]
  },
  {
   "cell_type": "code",
   "execution_count": null,
   "metadata": {},
   "outputs": [],
   "source": [
    "print('Latitude = {}, Longitude = {}'.format(location.latitude, location.longitude))"
   ]
  },
  {
   "cell_type": "markdown",
   "metadata": {},
   "source": [
    "## Reading in data and preparing for geocoding"
   ]
  },
  {
   "cell_type": "code",
   "execution_count": null,
   "metadata": {},
   "outputs": [],
   "source": [
    "# NYC OpenData url: https://data.cityofnewyork.us/City-Government/Evictions/6z8x-wfk4\n",
    "# setting the link of our data (a static csv file) as the name 'url'\n",
    "url = 'https://data.cityofnewyork.us/api/views/6z8x-wfk4/rows.csv?accessType=DOWNLOAD'\n",
    "\n",
    "# reading in our data as a pandas dataframe and setting the name to'evictions_raw'\n",
    "evictions_raw = pd.read_csv(url)"
   ]
  },
  {
   "cell_type": "code",
   "execution_count": null,
   "metadata": {},
   "outputs": [],
   "source": [
    "# preview data\n",
    "evictions_raw.head()"
   ]
  },
  {
   "cell_type": "code",
   "execution_count": null,
   "metadata": {},
   "outputs": [],
   "source": [
    "# create new column for full address for geocoing\n",
    "evictions_raw['FULL_ADDRESS'] = None"
   ]
  },
  {
   "cell_type": "code",
   "execution_count": null,
   "metadata": {},
   "outputs": [],
   "source": [
    "# add concatenated address column to dataframe\n",
    "for i in range(len(evictions_raw)):\n",
    "    evictions_raw.loc[i, 'FULL_ADDRESS'] = str(evictions_raw.loc[i, 'EVICTION_ADDRESS']) + ', ' \\\n",
    "                                    + str(evictions_raw.loc[i, 'BOROUGH']) + ', ' \\\n",
    "                                    + str(evictions_raw.loc[i, 'EVICTION_ZIP'])"
   ]
  },
  {
   "cell_type": "code",
   "execution_count": null,
   "metadata": {},
   "outputs": [],
   "source": [
    "evictions_raw.info()"
   ]
  },
  {
   "cell_type": "code",
   "execution_count": null,
   "metadata": {},
   "outputs": [],
   "source": [
    "# test on addresses\n",
    "locator = Nominatim(user_agent='myGeocoder')\n",
    "location = locator.geocode(str(evictions_raw.loc[0, 'FULL_ADDRESS']))\n",
    "print('Latitude = {}, Longitude = {}'.format(location.latitude, location.longitude))"
   ]
  },
  {
   "cell_type": "code",
   "execution_count": null,
   "metadata": {},
   "outputs": [],
   "source": [
    "# check datapoint in new FULL_ADDRESS row\n",
    "evictions_raw.loc[3, 'FULL_ADDRESS']"
   ]
  },
  {
   "cell_type": "markdown",
   "metadata": {},
   "source": [
    "## Geocode dataset"
   ]
  },
  {
   "cell_type": "code",
   "execution_count": null,
   "metadata": {},
   "outputs": [],
   "source": [
    "# geocode the whole dataset - takes ~ 20hours because there are 66,323 rows of addresses\n",
    "\n",
    "evictions = evictions_raw.copy()\n",
    "\n",
    "# time code block\n",
    "start = time.time()\n",
    "\n",
    "from geopy.extra.rate_limiter import RateLimiter\n",
    "\n",
    "# 1 - conveneint function to delay between geocoding calls\n",
    "geocode = RateLimiter(locator.geocode, min_delay_seconds=1)\n",
    "# 2- - create location column\n",
    "evictions['LOCATION'] = evictions['FULL_ADDRESS'].apply(geocode)\n",
    "# 3 - create longitude, laatitude and altitude from location column (returns tuple)\n",
    "evictions['POINT'] = evictions['LOCATION'].apply(lambda loc: tuple(loc.point) if loc else None)\n",
    "# 4 - split point column into latitude, longitude and altitude columns\n",
    "evictions[['LATITUDE', 'LONGITUDE', 'ALTITUDE']] = \\\n",
    "                pd.DataFrame(evictions['POINT'].tolist(), index=evictions.index)\n",
    "\n",
    "end = time.time()\n",
    "print (\"Time elapsed:\", end - start)"
   ]
  },
  {
   "cell_type": "code",
   "execution_count": null,
   "metadata": {},
   "outputs": [],
   "source": [
    "# look at sample of geocoded data\n",
    "evictions.loc[50000:50100,]"
   ]
  },
  {
   "cell_type": "code",
   "execution_count": null,
   "metadata": {},
   "outputs": [],
   "source": [
    "# check percentage of None values that the geocoder was unable to read\n",
    "evictions['POINT'].isna().sum()/len(evictions)*100"
   ]
  },
  {
   "cell_type": "code",
   "execution_count": null,
   "metadata": {},
   "outputs": [],
   "source": [
    "# send output to csv\n",
    "evictions.to_csv('evictions_geocoded_Nominatum.csv')"
   ]
  }
 ],
 "metadata": {
  "kernelspec": {
   "display_name": "geopandas_env",
   "language": "python",
   "name": "geopandas_env"
  },
  "language_info": {
   "codemirror_mode": {
    "name": "ipython",
    "version": 3
   },
   "file_extension": ".py",
   "mimetype": "text/x-python",
   "name": "python",
   "nbconvert_exporter": "python",
   "pygments_lexer": "ipython3",
   "version": "3.8.5"
  }
 },
 "nbformat": 4,
 "nbformat_minor": 4
}
